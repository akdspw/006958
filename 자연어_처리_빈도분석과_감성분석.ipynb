{
  "nbformat": 4,
  "nbformat_minor": 0,
  "metadata": {
    "colab": {
      "name": "자연어 처리 빈도분석과 감성분석.ipynb",
      "provenance": [],
      "authorship_tag": "ABX9TyPAD/aa1i/NTnRq3tld1QLK",
      "include_colab_link": true
    },
    "kernelspec": {
      "name": "python3",
      "display_name": "Python 3"
    }
  },
  "cells": [
    {
      "cell_type": "markdown",
      "metadata": {
        "id": "view-in-github",
        "colab_type": "text"
      },
      "source": [
        "<a href=\"https://colab.research.google.com/github/akdspw/006958/blob/master/%EC%9E%90%EC%97%B0%EC%96%B4_%EC%B2%98%EB%A6%AC_%EB%B9%88%EB%8F%84%EB%B6%84%EC%84%9D%EA%B3%BC_%EA%B0%90%EC%84%B1%EB%B6%84%EC%84%9D.ipynb\" target=\"_parent\"><img src=\"https://colab.research.google.com/assets/colab-badge.svg\" alt=\"Open In Colab\"/></a>"
      ]
    },
    {
      "cell_type": "code",
      "metadata": {
        "id": "a9GKi03Wu0vs",
        "colab": {
          "base_uri": "https://localhost:8080/"
        },
        "outputId": "8d7adb64-312a-45cf-9001-78c0ca743f0c"
      },
      "source": [
        "# connect to Google Drive\n",
        "# from google.colab import auth\n",
        "# auth.authenticate_user()\n",
        "\n",
        "from google.colab import drive\n",
        "drive.mount('/content/drive')"
      ],
      "execution_count": 42,
      "outputs": [
        {
          "output_type": "stream",
          "text": [
            "Drive already mounted at /content/drive; to attempt to forcibly remount, call drive.mount(\"/content/drive\", force_remount=True).\n"
          ],
          "name": "stdout"
        }
      ]
    },
    {
      "cell_type": "code",
      "metadata": {
        "id": "MqqWDMYWvI_i"
      },
      "source": [
        "import matplotlib as mpl\n",
        "import matplotlib.pyplot as plt\n",
        "\n",
        "# 그래프에서 한글표현을 위해 폰트를 설치\n",
        "%config lnlineBackend.figure_format = 'retina' # 폰트가 깨끗하게 보이도록 설정\n",
        "!apt-get -qq -y install fonts-nanum > /dev/null # 나눔 폰트 설치\n"
      ],
      "execution_count": 43,
      "outputs": []
    },
    {
      "cell_type": "code",
      "metadata": {
        "id": "aWOc1aALv4Ht"
      },
      "source": [
        "import matplotlib.font_manager as fm\n",
        "fontpath = '/usr/share/fonts/truetype/nanum/NanumBarunGothic.ttf'\n",
        "font = fm.FontProperties(fname=fontpath, size=9)\n",
        "\n",
        "# 기본 글꼴 변경\n",
        "mpl.pyplot.rc('font', family='NanumBarunGothic')\n",
        "mpl.font_manager._rebuild()"
      ],
      "execution_count": 44,
      "outputs": []
    },
    {
      "cell_type": "code",
      "metadata": {
        "id": "BNiTzHdLw0Q5",
        "colab": {
          "base_uri": "https://localhost:8080/"
        },
        "outputId": "0e7b7dfe-be7b-479f-9944-b49f0595f4de"
      },
      "source": [
        "# 형태소분석기 관련 설치\n",
        "!apt-get update\n",
        "!apt-get install g++ openjdk-8-jdk\n",
        "\n",
        "!pip install JPype1==0.7.4\n",
        "!pip install rhinoMorph"
      ],
      "execution_count": 45,
      "outputs": [
        {
          "output_type": "stream",
          "text": [
            "\r0% [Working]\r            \rIgn:1 https://developer.download.nvidia.com/compute/cuda/repos/ubuntu1804/x86_64  InRelease\n",
            "\r0% [Waiting for headers] [Connecting to security.ubuntu.com (91.189.88.142)] [C\r                                                                               \rHit:2 https://cloud.r-project.org/bin/linux/ubuntu bionic-cran40/ InRelease\n",
            "\r0% [Waiting for headers] [Connecting to security.ubuntu.com (91.189.88.142)] [W\r                                                                               \rIgn:3 https://developer.download.nvidia.com/compute/machine-learning/repos/ubuntu1804/x86_64  InRelease\n",
            "\r0% [Waiting for headers] [Connecting to security.ubuntu.com (91.189.88.142)] [W\r0% [2 InRelease gpgv 3,626 B] [Waiting for headers] [Connecting to security.ubu\r                                                                               \rHit:4 http://archive.ubuntu.com/ubuntu bionic InRelease\n",
            "\r0% [2 InRelease gpgv 3,626 B] [Waiting for headers] [Connecting to security.ubu\r                                                                               \rHit:5 http://ppa.launchpad.net/c2d4u.team/c2d4u4.0+/ubuntu bionic InRelease\n",
            "Hit:6 https://developer.download.nvidia.com/compute/cuda/repos/ubuntu1804/x86_64  Release\n",
            "Hit:7 https://developer.download.nvidia.com/compute/machine-learning/repos/ubuntu1804/x86_64  Release\n",
            "Hit:8 http://archive.ubuntu.com/ubuntu bionic-updates InRelease\n",
            "Hit:9 http://security.ubuntu.com/ubuntu bionic-security InRelease\n",
            "Hit:10 http://archive.ubuntu.com/ubuntu bionic-backports InRelease\n",
            "Hit:11 http://ppa.launchpad.net/graphics-drivers/ppa/ubuntu bionic InRelease\n",
            "Reading package lists... Done\n",
            "Reading package lists... Done\n",
            "Building dependency tree       \n",
            "Reading state information... Done\n",
            "g++ is already the newest version (4:7.4.0-1ubuntu2.3).\n",
            "openjdk-8-jdk is already the newest version (8u275-b01-0ubuntu1~18.04).\n",
            "0 upgraded, 0 newly installed, 0 to remove and 57 not upgraded.\n",
            "Requirement already satisfied: JPype1==0.7.4 in /usr/local/lib/python3.6/dist-packages (0.7.4)\n",
            "Requirement already satisfied: rhinoMorph in /usr/local/lib/python3.6/dist-packages (3.8.0.0)\n"
          ],
          "name": "stdout"
        }
      ]
    },
    {
      "cell_type": "code",
      "metadata": {
        "id": "TiMzBPZaxn2J"
      },
      "source": [
        ""
      ],
      "execution_count": 45,
      "outputs": []
    },
    {
      "cell_type": "markdown",
      "metadata": {
        "id": "0nB9Ifl-x5ig"
      },
      "source": [
        "# 빈도 분석"
      ]
    },
    {
      "cell_type": "code",
      "metadata": {
        "id": "mVQkJVVOx89q",
        "colab": {
          "base_uri": "https://localhost:8080/"
        },
        "outputId": "88693c7c-7711-49c6-9f68-5cbb3b2c3cec"
      },
      "source": [
        "# 경로 변경\n",
        "# !cd /content/drive/My Drive/Colab Notebooks/code/project/nlp\n",
        "%cd /content/drive/My\\ Drive/Colab\\ Notebooks/code/project/nlp"
      ],
      "execution_count": 46,
      "outputs": [
        {
          "output_type": "stream",
          "text": [
            "/content/drive/My Drive/Colab Notebooks/code/project/nlp\n"
          ],
          "name": "stdout"
        }
      ]
    },
    {
      "cell_type": "code",
      "metadata": {
        "id": "hVQMPFt-x_OG",
        "colab": {
          "base_uri": "https://localhost:8080/"
        },
        "outputId": "e7f543f4-9d81-462f-e0fb-f6b22c0c5920"
      },
      "source": [
        "ls"
      ],
      "execution_count": 47,
      "outputs": [
        {
          "output_type": "stream",
          "text": [
            "201121_konlpy.ipynb\n"
          ],
          "name": "stdout"
        }
      ]
    },
    {
      "cell_type": "code",
      "metadata": {
        "id": "l6fbfxnC2Mnq",
        "colab": {
          "base_uri": "https://localhost:8080/"
        },
        "outputId": "0e16f633-baf4-497f-c1f9-ebce505d32ba"
      },
      "source": [
        "pip install konlpy"
      ],
      "execution_count": 48,
      "outputs": [
        {
          "output_type": "stream",
          "text": [
            "Requirement already satisfied: konlpy in /usr/local/lib/python3.6/dist-packages (0.5.2)\n",
            "Requirement already satisfied: beautifulsoup4==4.6.0 in /usr/local/lib/python3.6/dist-packages (from konlpy) (4.6.0)\n",
            "Requirement already satisfied: lxml>=4.1.0 in /usr/local/lib/python3.6/dist-packages (from konlpy) (4.2.6)\n",
            "Requirement already satisfied: numpy>=1.6 in /usr/local/lib/python3.6/dist-packages (from konlpy) (1.18.5)\n",
            "Requirement already satisfied: tweepy>=3.7.0 in /usr/local/lib/python3.6/dist-packages (from konlpy) (3.9.0)\n",
            "Requirement already satisfied: colorama in /usr/local/lib/python3.6/dist-packages (from konlpy) (0.4.4)\n",
            "Requirement already satisfied: JPype1>=0.7.0 in /usr/local/lib/python3.6/dist-packages (from konlpy) (0.7.4)\n",
            "Requirement already satisfied: six>=1.10.0 in /usr/local/lib/python3.6/dist-packages (from tweepy>=3.7.0->konlpy) (1.15.0)\n",
            "Requirement already satisfied: requests[socks]>=2.11.1 in /usr/local/lib/python3.6/dist-packages (from tweepy>=3.7.0->konlpy) (2.23.0)\n",
            "Requirement already satisfied: requests-oauthlib>=0.7.0 in /usr/local/lib/python3.6/dist-packages (from tweepy>=3.7.0->konlpy) (1.3.0)\n",
            "Requirement already satisfied: urllib3!=1.25.0,!=1.25.1,<1.26,>=1.21.1 in /usr/local/lib/python3.6/dist-packages (from requests[socks]>=2.11.1->tweepy>=3.7.0->konlpy) (1.24.3)\n",
            "Requirement already satisfied: idna<3,>=2.5 in /usr/local/lib/python3.6/dist-packages (from requests[socks]>=2.11.1->tweepy>=3.7.0->konlpy) (2.10)\n",
            "Requirement already satisfied: chardet<4,>=3.0.2 in /usr/local/lib/python3.6/dist-packages (from requests[socks]>=2.11.1->tweepy>=3.7.0->konlpy) (3.0.4)\n",
            "Requirement already satisfied: certifi>=2017.4.17 in /usr/local/lib/python3.6/dist-packages (from requests[socks]>=2.11.1->tweepy>=3.7.0->konlpy) (2020.6.20)\n",
            "Requirement already satisfied: PySocks!=1.5.7,>=1.5.6; extra == \"socks\" in /usr/local/lib/python3.6/dist-packages (from requests[socks]>=2.11.1->tweepy>=3.7.0->konlpy) (1.7.1)\n",
            "Requirement already satisfied: oauthlib>=3.0.0 in /usr/local/lib/python3.6/dist-packages (from requests-oauthlib>=0.7.0->tweepy>=3.7.0->konlpy) (3.1.0)\n"
          ],
          "name": "stdout"
        }
      ]
    },
    {
      "cell_type": "code",
      "metadata": {
        "id": "yicbq5y2tptu"
      },
      "source": [
        "\n",
        "# konlpy 패키지 불러오기\n",
        "from konlpy.corpus import kolaw\n",
        "\n",
        "# 예제파일 불러오기\n",
        "c = kolaw.open('constitution.txt').read()"
      ],
      "execution_count": 49,
      "outputs": []
    },
    {
      "cell_type": "code",
      "metadata": {
        "colab": {
          "base_uri": "https://localhost:8080/"
        },
        "id": "kuCSKggVtsqS",
        "outputId": "deabd1bb-e7aa-4420-c906-3e939df94393"
      },
      "source": [
        "\n",
        "#가져온 데이터의 type을 확인\n",
        "print(type(c))\n",
        "\n",
        "# 길이 확인\n",
        "print(len(c))\n",
        "\n",
        "# ~600자 출력\n",
        "print(c[:600])"
      ],
      "execution_count": 50,
      "outputs": [
        {
          "output_type": "stream",
          "text": [
            "<class 'str'>\n",
            "18884\n",
            "대한민국헌법\n",
            "\n",
            "유구한 역사와 전통에 빛나는 우리 대한국민은 3·1운동으로 건립된 대한민국임시정부의 법통과 불의에 항거한 4·19민주이념을 계승하고, 조국의 민주개혁과 평화적 통일의 사명에 입각하여 정의·인도와 동포애로써 민족의 단결을 공고히 하고, 모든 사회적 폐습과 불의를 타파하며, 자율과 조화를 바탕으로 자유민주적 기본질서를 더욱 확고히 하여 정치·경제·사회·문화의 모든 영역에 있어서 각인의 기회를 균등히 하고, 능력을 최고도로 발휘하게 하며, 자유와 권리에 따르는 책임과 의무를 완수하게 하여, 안으로는 국민생활의 균등한 향상을 기하고 밖으로는 항구적인 세계평화와 인류공영에 이바지함으로써 우리들과 우리들의 자손의 안전과 자유와 행복을 영원히 확보할 것을 다짐하면서 1948년 7월 12일에 제정되고 8차에 걸쳐 개정된 헌법을 이제 국회의 의결을 거쳐 국민투표에 의하여 개정한다.\n",
            "\n",
            "       제1장 총강\n",
            "  제1조 ① 대한민국은 민주공화국이다.\n",
            "②대한민국의 주권은 국민에게 있고, 모든 권력은 국민으로부터 나온다.\n",
            "  제2조 ① 대한민국의 국민이 되는 요건은 법률로 정한다.\n",
            "②국가는 법률이 정하는 바에 의하여 재외국민을 보호할 의무를 진다.\n",
            "  제3조 대한민\n"
          ],
          "name": "stdout"
        }
      ]
    },
    {
      "cell_type": "code",
      "metadata": {
        "colab": {
          "base_uri": "https://localhost:8080/"
        },
        "id": "BmDFQ2WStwdv",
        "outputId": "1a2e33da-0019-41aa-906c-108dc597f50b"
      },
      "source": [
        "\n",
        "# 패키지 불러오기\n",
        "import nltk\n",
        "nltk.download('punkt')\n",
        "\n",
        "# 문장단위(sent)로 tokenize\n",
        "from nltk.tokenize import sent_tokenize\n",
        "c_sent = sent_tokenize(c)\n",
        "print(len(c_sent))\n",
        "print(c_sent[:5])"
      ],
      "execution_count": 51,
      "outputs": [
        {
          "output_type": "stream",
          "text": [
            "[nltk_data] Downloading package punkt to /root/nltk_data...\n",
            "[nltk_data]   Package punkt is already up-to-date!\n",
            "357\n",
            "['대한민국헌법\\n\\n유구한 역사와 전통에 빛나는 우리 대한국민은 3·1운동으로 건립된 대한민국임시정부의 법통과 불의에 항거한 4·19민주이념을 계승하고, 조국의 민주개혁과 평화적 통일의 사명에 입각하여 정의·인도와 동포애로써 민족의 단결을 공고히 하고, 모든 사회적 폐습과 불의를 타파하며, 자율과 조화를 바탕으로 자유민주적 기본질서를 더욱 확고히 하여 정치·경제·사회·문화의 모든 영역에 있어서 각인의 기회를 균등히 하고, 능력을 최고도로 발휘하게 하며, 자유와 권리에 따르는 책임과 의무를 완수하게 하여, 안으로는 국민생활의 균등한 향상을 기하고 밖으로는 항구적인 세계평화와 인류공영에 이바지함으로써 우리들과 우리들의 자손의 안전과 자유와 행복을 영원히 확보할 것을 다짐하면서 1948년 7월 12일에 제정되고 8차에 걸쳐 개정된 헌법을 이제 국회의 의결을 거쳐 국민투표에 의하여 개정한다.', '제1장 총강\\n  제1조 ① 대한민국은 민주공화국이다.', '②대한민국의 주권은 국민에게 있고, 모든 권력은 국민으로부터 나온다.', '제2조 ① 대한민국의 국민이 되는 요건은 법률로 정한다.', '②국가는 법률이 정하는 바에 의하여 재외국민을 보호할 의무를 진다.']\n"
          ],
          "name": "stdout"
        }
      ]
    },
    {
      "cell_type": "code",
      "metadata": {
        "colab": {
          "base_uri": "https://localhost:8080/"
        },
        "id": "h3UIMLOUt04N",
        "outputId": "4ec5e326-d253-485d-b7d1-7ed70a480a72"
      },
      "source": [
        "# 단어단위(word)로 tokenize\n",
        "from nltk.tokenize import word_tokenize\n",
        "c_words = word_tokenize(c)\n",
        "len(c_words)"
      ],
      "execution_count": 52,
      "outputs": [
        {
          "output_type": "execute_result",
          "data": {
            "text/plain": [
              "4640"
            ]
          },
          "metadata": {
            "tags": []
          },
          "execution_count": 52
        }
      ]
    },
    {
      "cell_type": "code",
      "metadata": {
        "colab": {
          "base_uri": "https://localhost:8080/",
          "height": 87
        },
        "id": "6WiKMotvuCc1",
        "outputId": "03f7b2f1-2655-46a3-b55b-dc6bfc90c833"
      },
      "source": [
        "# tokenize한 단어 사이에 공백(띄어쓰기) 추가\n",
        "\" \".join(c_words[:50])"
      ],
      "execution_count": 53,
      "outputs": [
        {
          "output_type": "execute_result",
          "data": {
            "application/vnd.google.colaboratory.intrinsic+json": {
              "type": "string"
            },
            "text/plain": [
              "'대한민국헌법 유구한 역사와 전통에 빛나는 우리 대한국민은 3·1운동으로 건립된 대한민국임시정부의 법통과 불의에 항거한 4·19민주이념을 계승하고 , 조국의 민주개혁과 평화적 통일의 사명에 입각하여 정의·인도와 동포애로써 민족의 단결을 공고히 하고 , 모든 사회적 폐습과 불의를 타파하며 , 자율과 조화를 바탕으로 자유민주적 기본질서를 더욱 확고히 하여 정치·경제·사회·문화의 모든 영역에 있어서 각인의 기회를 균등히'"
            ]
          },
          "metadata": {
            "tags": []
          },
          "execution_count": 53
        }
      ]
    },
    {
      "cell_type": "code",
      "metadata": {
        "id": "fV7OW6lKuZGM"
      },
      "source": [
        "\n",
        "# 패키지 불러오기\n",
        "from konlpy.tag import Okt\n",
        "okt = Okt()\n",
        "tokens_c = okt.morphs(c) # 형태소 단위로 tokenize"
      ],
      "execution_count": 54,
      "outputs": []
    },
    {
      "cell_type": "code",
      "metadata": {
        "colab": {
          "base_uri": "https://localhost:8080/"
        },
        "id": "gpF3DU8eudG9",
        "outputId": "6f4c3fb3-f760-484c-d194-eb3412dc6d70"
      },
      "source": [
        "len(tokens_c)"
      ],
      "execution_count": 55,
      "outputs": [
        {
          "output_type": "execute_result",
          "data": {
            "text/plain": [
              "8796"
            ]
          },
          "metadata": {
            "tags": []
          },
          "execution_count": 55
        }
      ]
    },
    {
      "cell_type": "code",
      "metadata": {
        "colab": {
          "base_uri": "https://localhost:8080/"
        },
        "id": "-dzGPzz6unJu",
        "outputId": "4f91d80b-0672-45ee-b078-2adef69113b3"
      },
      "source": [
        "type(tokens_c)"
      ],
      "execution_count": 56,
      "outputs": [
        {
          "output_type": "execute_result",
          "data": {
            "text/plain": [
              "list"
            ]
          },
          "metadata": {
            "tags": []
          },
          "execution_count": 56
        }
      ]
    },
    {
      "cell_type": "code",
      "metadata": {
        "colab": {
          "base_uri": "https://localhost:8080/",
          "height": 53
        },
        "id": "worcBRaWupX9",
        "outputId": "3f179660-a16a-46eb-9f3c-6093fcfb5cec"
      },
      "source": [
        "\n",
        "\" \".join(tokens_c[:50])"
      ],
      "execution_count": 57,
      "outputs": [
        {
          "output_type": "execute_result",
          "data": {
            "application/vnd.google.colaboratory.intrinsic+json": {
              "type": "string"
            },
            "text/plain": [
              "'대한민국 헌법 \\n\\n 유구 한 역사 와 전통 에 빛나는 우리 대 한 국민 은 3 · 1 운동 으로 건립 된 대한민국 임시정부 의 법 통과 불의 에 항거 한 4 · 19 민주 이념 을 계승 하고 , 조국 의 민주 개혁 과 평화 적 통일 의 사명'"
            ]
          },
          "metadata": {
            "tags": []
          },
          "execution_count": 57
        }
      ]
    },
    {
      "cell_type": "code",
      "metadata": {
        "colab": {
          "base_uri": "https://localhost:8080/"
        },
        "id": "rr2ooSH8urnl",
        "outputId": "a9ec3fac-b354-43b3-ef6b-c4b2e6d7f0c0"
      },
      "source": [
        "import nltk\n",
        "c_nltk_text = nltk.Text(tokens_c, name = \"대한민국헌법\") \n",
        "c_nltk_text"
      ],
      "execution_count": 58,
      "outputs": [
        {
          "output_type": "execute_result",
          "data": {
            "text/plain": [
              "<Text: 대한민국헌법>"
            ]
          },
          "metadata": {
            "tags": []
          },
          "execution_count": 58
        }
      ]
    },
    {
      "cell_type": "code",
      "metadata": {
        "colab": {
          "base_uri": "https://localhost:8080/"
        },
        "id": "a8m1RyRsuwLk",
        "outputId": "7d67afce-d06c-4555-a40a-86a0309770a3"
      },
      "source": [
        "# 모든 단어의 수\n",
        "print(len(c_nltk_text.tokens))\n",
        "\n",
        "# 서로 다른 단어의 수\n",
        "print(len(set(c_nltk_text.tokens)))"
      ],
      "execution_count": 59,
      "outputs": [
        {
          "output_type": "stream",
          "text": [
            "8796\n",
            "1364\n"
          ],
          "name": "stdout"
        }
      ]
    },
    {
      "cell_type": "code",
      "metadata": {
        "colab": {
          "base_uri": "https://localhost:8080/"
        },
        "id": "FZn4tQ8fuz7F",
        "outputId": "1c18e148-7c2b-40fb-c5ca-886603845bad"
      },
      "source": [
        "#단어와 단어의 빈도를 dictionary 형태로 표현 \n",
        "c_nltk_text.vocab()"
      ],
      "execution_count": 60,
      "outputs": [
        {
          "output_type": "execute_result",
          "data": {
            "text/plain": [
              "FreqDist({'대한민국': 11,\n",
              "          '헌법': 53,\n",
              "          '\\n\\n': 2,\n",
              "          '유구': 1,\n",
              "          '한': 101,\n",
              "          '역사': 1,\n",
              "          '와': 41,\n",
              "          '전통': 1,\n",
              "          '에': 282,\n",
              "          '빛나는': 1,\n",
              "          '우리': 3,\n",
              "          '대': 1,\n",
              "          '국민': 61,\n",
              "          '은': 179,\n",
              "          '3': 14,\n",
              "          '·': 145,\n",
              "          '1': 25,\n",
              "          '운동': 2,\n",
              "          '으로': 52,\n",
              "          '건립': 1,\n",
              "          '된': 30,\n",
              "          '임시정부': 1,\n",
              "          '의': 380,\n",
              "          '법': 3,\n",
              "          '통과': 1,\n",
              "          '불의': 2,\n",
              "          '항거': 1,\n",
              "          '4': 8,\n",
              "          '19': 1,\n",
              "          '민주': 6,\n",
              "          '이념': 1,\n",
              "          '을': 211,\n",
              "          '계승': 2,\n",
              "          '하고': 19,\n",
              "          ',': 101,\n",
              "          '조국': 3,\n",
              "          '개혁': 1,\n",
              "          '과': 82,\n",
              "          '평화': 6,\n",
              "          '적': 35,\n",
              "          '통일': 6,\n",
              "          '사명': 2,\n",
              "          '입': 1,\n",
              "          '각하': 1,\n",
              "          '여': 10,\n",
              "          '정의': 1,\n",
              "          '인도': 1,\n",
              "          '동포': 1,\n",
              "          '애': 1,\n",
              "          '로써': 5,\n",
              "          '민족': 3,\n",
              "          '단결': 1,\n",
              "          '공고': 3,\n",
              "          '히': 1,\n",
              "          '모든': 37,\n",
              "          '사회': 8,\n",
              "          '폐습': 1,\n",
              "          '를': 130,\n",
              "          '타파': 1,\n",
              "          '하며': 32,\n",
              "          '자율': 2,\n",
              "          '조화': 2,\n",
              "          '바탕': 1,\n",
              "          '자유민주': 2,\n",
              "          '기': 8,\n",
              "          '본': 4,\n",
              "          '질서': 8,\n",
              "          '더욱': 1,\n",
              "          '확고히': 1,\n",
              "          '하여': 61,\n",
              "          '정치': 9,\n",
              "          '경제': 18,\n",
              "          '문화': 4,\n",
              "          '영역': 4,\n",
              "          '있어서': 9,\n",
              "          '각인': 1,\n",
              "          '기회': 3,\n",
              "          '균등히': 1,\n",
              "          '능력': 3,\n",
              "          '최고': 2,\n",
              "          '도로': 1,\n",
              "          '발휘': 1,\n",
              "          '하게': 4,\n",
              "          '자유': 20,\n",
              "          '권리': 21,\n",
              "          '따르는': 1,\n",
              "          '책임': 5,\n",
              "          '의무': 18,\n",
              "          '완수': 1,\n",
              "          '안': 21,\n",
              "          '으로는': 2,\n",
              "          '생활': 8,\n",
              "          '균등한': 2,\n",
              "          '향상': 5,\n",
              "          '기하': 1,\n",
              "          '고': 4,\n",
              "          '밖': 1,\n",
              "          '항구': 1,\n",
              "          '인': 22,\n",
              "          '세계': 1,\n",
              "          '인류': 1,\n",
              "          '공영': 1,\n",
              "          '이바지': 1,\n",
              "          '함': 5,\n",
              "          '으로써': 4,\n",
              "          '들': 2,\n",
              "          '자손': 1,\n",
              "          '안전': 1,\n",
              "          '행복': 2,\n",
              "          '영원히': 1,\n",
              "          '확보': 1,\n",
              "          '할': 100,\n",
              "          '것': 7,\n",
              "          '다짐': 1,\n",
              "          '하면서': 1,\n",
              "          '1948년': 1,\n",
              "          '7월': 1,\n",
              "          '12일': 1,\n",
              "          '제정': 8,\n",
              "          '되고': 3,\n",
              "          '8': 3,\n",
              "          '차': 4,\n",
              "          '걸쳐': 1,\n",
              "          '개정': 6,\n",
              "          '이제': 1,\n",
              "          '국회': 68,\n",
              "          '의결': 17,\n",
              "          '거쳐': 1,\n",
              "          '국민투표': 7,\n",
              "          '의하여': 66,\n",
              "          '한다': 155,\n",
              "          '.': 357,\n",
              "          '\\n\\n       ': 9,\n",
              "          '제': 178,\n",
              "          '장': 23,\n",
              "          '총': 2,\n",
              "          '강': 1,\n",
              "          '\\n  ': 130,\n",
              "          '1조': 2,\n",
              "          '①': 78,\n",
              "          '민주공화국': 1,\n",
              "          '이다': 1,\n",
              "          '\\n': 195,\n",
              "          '②': 78,\n",
              "          '주권': 2,\n",
              "          '에게': 8,\n",
              "          '있고': 4,\n",
              "          '권력': 1,\n",
              "          '으로부터': 3,\n",
              "          '나온다': 1,\n",
              "          '2조': 2,\n",
              "          '이': 176,\n",
              "          '되는': 10,\n",
              "          '요건': 1,\n",
              "          '법률': 127,\n",
              "          '로': 61,\n",
              "          '정': 89,\n",
              "          '국가': 73,\n",
              "          '는': 119,\n",
              "          '하는': 64,\n",
              "          '바': 37,\n",
              "          '재외국민': 1,\n",
              "          '보호': 14,\n",
              "          '진다': 13,\n",
              "          '3조': 2,\n",
              "          '영토': 2,\n",
              "          '한반도': 1,\n",
              "          '그': 47,\n",
              "          '부속': 1,\n",
              "          '도서': 1,\n",
              "          '4조': 2,\n",
              "          '지향': 1,\n",
              "          '입각': 1,\n",
              "          '정책': 14,\n",
              "          '수립': 7,\n",
              "          '이를': 15,\n",
              "          '추진': 1,\n",
              "          '다': 15,\n",
              "          '5조': 2,\n",
              "          '국제': 4,\n",
              "          '유지': 7,\n",
              "          '노력': 13,\n",
              "          '침략': 1,\n",
              "          '전쟁': 1,\n",
              "          '부인': 1,\n",
              "          '국군': 4,\n",
              "          '안전보장': 10,\n",
              "          '국토': 3,\n",
              "          '방위': 1,\n",
              "          '신성한': 1,\n",
              "          '수행': 4,\n",
              "          '중립성': 3,\n",
              "          '준수': 2,\n",
              "          '된다': 21,\n",
              "          '6조': 2,\n",
              "          '체결': 4,\n",
              "          '공포': 10,\n",
              "          '조약': 11,\n",
              "          '일반': 2,\n",
              "          '승인': 6,\n",
              "          '법규': 1,\n",
              "          '국내법': 1,\n",
              "          '같은': 2,\n",
              "          '효력': 9,\n",
              "          '가진다': 25,\n",
              "          '외국인': 1,\n",
              "          '지위': 3,\n",
              "          '가': 44,\n",
              "          '보장': 13,\n",
              "          '7조': 1,\n",
              "          '공무원': 17,\n",
              "          '전체': 1,\n",
              "          '대한': 10,\n",
              "          '봉사자': 1,\n",
              "          '이며': 3,\n",
              "          '대하': 9,\n",
              "          '신분': 3,\n",
              "          '8조': 1,\n",
              "          '정당': 14,\n",
              "          '설립': 1,\n",
              "          '복수정당제': 1,\n",
              "          '목적': 4,\n",
              "          '조직': 18,\n",
              "          '활동': 3,\n",
              "          '적이어야': 1,\n",
              "          '의사': 2,\n",
              "          '형성': 1,\n",
              "          '참여': 1,\n",
              "          '하는데': 1,\n",
              "          '필요한': 21,\n",
              "          '가져야': 1,\n",
              "          '③': 45,\n",
              "          '받으며': 3,\n",
              "          '운영': 5,\n",
              "          '자금': 1,\n",
              "          '보조': 1,\n",
              "          '수': 88,\n",
              "          '있다': 57,\n",
              "          '④': 20,\n",
              "          '이나': 10,\n",
              "          '위배': 2,\n",
              "          '될': 15,\n",
              "          '때': 55,\n",
              "          '에는': 46,\n",
              "          '정부': 20,\n",
              "          '헌법재판소': 14,\n",
              "          '해산': 5,\n",
              "          '제소': 3,\n",
              "          '심판': 10,\n",
              "          '9조': 1,\n",
              "          '전통문화': 1,\n",
              "          '발전': 5,\n",
              "          '창달': 2,\n",
              "          '하여야': 31,\n",
              "          '2': 16,\n",
              "          '10조': 1,\n",
              "          '인간': 3,\n",
              "          '으로서의': 2,\n",
              "          '존엄': 2,\n",
              "          '가치': 1,\n",
              "          '가지': 2,\n",
              "          '며': 2,\n",
              "          '추구': 1,\n",
              "          '개인': 3,\n",
              "          '가지는': 3,\n",
              "          '불가침': 1,\n",
              "          '기본': 5,\n",
              "          '인권': 1,\n",
              "          '확인': 1,\n",
              "          '11조': 1,\n",
              "          '앞': 2,\n",
              "          '평등하다': 1,\n",
              "          '누구': 6,\n",
              "          '든지': 6,\n",
              "          '성별': 1,\n",
              "          '종교': 3,\n",
              "          '또는': 70,\n",
              "          '차별': 2,\n",
              "          '받지': 15,\n",
              "          '아니': 30,\n",
              "          '특수': 1,\n",
              "          '계급': 1,\n",
              "          '제도': 4,\n",
              "          '인정': 8,\n",
              "          '되지': 19,\n",
              "          '아니하며': 6,\n",
              "          '어떠한': 2,\n",
              "          '형태': 1,\n",
              "          '도': 4,\n",
              "          '창설': 1,\n",
              "          '없다': 21,\n",
              "          '훈장': 2,\n",
              "          '등': 6,\n",
              "          '영전': 3,\n",
              "          '받은': 9,\n",
              "          '자': 18,\n",
              "          '에게만': 1,\n",
              "          '특권': 1,\n",
              "          '따르지': 1,\n",
              "          '12조': 1,\n",
              "          '신체': 3,\n",
              "          '의하지': 6,\n",
              "          '아니하고는': 7,\n",
              "          '체포': 9,\n",
              "          '구속': 8,\n",
              "          '압수': 3,\n",
              "          '수색': 3,\n",
              "          '심문': 1,\n",
              "          '적법한': 2,\n",
              "          '절차': 9,\n",
              "          '처벌': 3,\n",
              "          '보안처분': 1,\n",
              "          '강제': 1,\n",
              "          '노역': 1,\n",
              "          '고문': 2,\n",
              "          '형사': 9,\n",
              "          '상': 10,\n",
              "          '자기': 2,\n",
              "          '불리한': 3,\n",
              "          '진술': 5,\n",
              "          '강요': 1,\n",
              "          '당하지': 3,\n",
              "          '따라': 5,\n",
              "          '검사': 4,\n",
              "          '신청': 2,\n",
              "          '법관': 15,\n",
              "          '발부': 2,\n",
              "          '영장': 4,\n",
              "          '제시': 2,\n",
              "          '다만': 11,\n",
              "          '현행범인': 3,\n",
              "          '경우': 17,\n",
              "          '장기': 2,\n",
              "          '3년': 1,\n",
              "          '이상': 17,\n",
              "          '형': 4,\n",
              "          '해당': 1,\n",
              "          '죄': 4,\n",
              "          '범': 1,\n",
              "          '도피': 1,\n",
              "          '증거': 3,\n",
              "          '멸': 1,\n",
              "          '염려': 2,\n",
              "          '있을': 9,\n",
              "          '사후': 1,\n",
              "          '청구': 6,\n",
              "          '당한': 3,\n",
              "          '즉시': 2,\n",
              "          '변호인': 4,\n",
              "          '조력': 2,\n",
              "          '받을': 7,\n",
              "          '피고인': 6,\n",
              "          '스스로': 1,\n",
              "          '구': 1,\n",
              "          '없을': 5,\n",
              "          '붙인다': 1,\n",
              "          '⑤': 11,\n",
              "          '이유': 7,\n",
              "          '있': 1,\n",
              "          '음': 1,\n",
              "          '고지': 1,\n",
              "          '자의': 2,\n",
              "          '가족': 2,\n",
              "          '에게는': 1,\n",
              "          '일시': 1,\n",
              "          '장소': 1,\n",
              "          '지체': 6,\n",
              "          '없이': 8,\n",
              "          '통지': 1,\n",
              "          '되어야': 4,\n",
              "          '⑥': 6,\n",
              "          '부의': 3,\n",
              "          '심사': 5,\n",
              "          '법원': 12,\n",
              "          '⑦': 3,\n",
              "          '자백': 2,\n",
              "          '폭행': 1,\n",
              "          '협박': 1,\n",
              "          '부당한': 2,\n",
              "          '화': 1,\n",
              "          '망': 1,\n",
              "          '기타': 26,\n",
              "          '방법': 4,\n",
              "          '아니라고': 1,\n",
              "          '정식': 1,\n",
              "          '재판': 11,\n",
              "          '유일한': 1,\n",
              "          '일': 3,\n",
              "          '유죄': 2,\n",
              "          '삼거나': 1,\n",
              "          '13조': 1,\n",
              "          '행위': 7,\n",
              "          '시': 1,\n",
              "          '범죄': 4,\n",
              "          '구성': 8,\n",
              "          '하지': 7,\n",
              "          '아니하는': 6,\n",
              "          '소': 7,\n",
              "          '추': 6,\n",
              "          '동일한': 1,\n",
              "          '거듭': 1,\n",
              "          '소급입법': 1,\n",
              "          '참정권': 1,\n",
              "          '제한': 7,\n",
              "          '받거나': 2,\n",
              "          '재산권': 4,\n",
              "          '박탈': 1,\n",
              "          '아닌': 7,\n",
              "          '친족': 1,\n",
              "          '인하여': 5,\n",
              "          '불이익': 2,\n",
              "          '처우': 2,\n",
              "          '14조': 1,\n",
              "          '거주': 1,\n",
              "          '이전': 1,\n",
              "          '15조': 1,\n",
              "          '직업': 1,\n",
              "          '선택': 1,\n",
              "          '16조': 1,\n",
              "          '주거': 3,\n",
              "          '침해': 6,\n",
              "          '나': 11,\n",
              "          '17조': 1,\n",
              "          '사생활': 1,\n",
              "          '비밀': 2,\n",
              "          '18조': 1,\n",
              "          '통신': 2,\n",
              "          '19조': 1,\n",
              "          '양심': 3,\n",
              "          '20조': 1,\n",
              "          '국교': 1,\n",
              "          '분리': 1,\n",
              "          '21조': 1,\n",
              "          '언론': 5,\n",
              "          '출판': 5,\n",
              "          '집회': 12,\n",
              "          '결사': 3,\n",
              "          '허가': 2,\n",
              "          '검열': 1,\n",
              "          '방송': 1,\n",
              "          '시설': 2,\n",
              "          '기준': 2,\n",
              "          '신문': 1,\n",
              "          '기능': 1,\n",
              "          '하기': 16,\n",
              "          '위': 36,\n",
              "          '사항': 23,\n",
              "          '타인': 4,\n",
              "          '명예': 2,\n",
              "          '공중도덕': 1,\n",
              "          '윤리': 1,\n",
              "          '서는': 1,\n",
              "          '피해자': 2,\n",
              "          '피해': 2,\n",
              "          '배상': 3,\n",
              "          '22조': 1,\n",
              "          '학문': 1,\n",
              "          '예술': 1,\n",
              "          '저작자': 1,\n",
              "          '발명가': 1,\n",
              "          '과학기술': 2,\n",
              "          '예술가': 1,\n",
              "          '23조': 1,\n",
              "          '내용': 5,\n",
              "          '한계': 1,\n",
              "          '행사': 3,\n",
              "          '공공': 7,\n",
              "          '복리': 4,\n",
              "          '적합하도록': 1,\n",
              "          '공공필요': 1,\n",
              "          '의한': 10,\n",
              "          '수용': 1,\n",
              "          '사용': 1,\n",
              "          '및': 25,\n",
              "          '보상': 4,\n",
              "          '하': 18,\n",
              "          '되': 4,\n",
              "          '정당한': 3,\n",
              "          '지급': 1,\n",
              "          '24조': 1,\n",
              "          '선거권': 3,\n",
              "          '25조': 1,\n",
              "          '공무': 1,\n",
              "          '담임': 1,\n",
              "          '권': 4,\n",
              "          '26조': 1,\n",
              "          '기관': 7,\n",
              "          '문서': 3,\n",
              "          '청원': 3,\n",
              "          '27조': 1,\n",
              "          '군인': 5,\n",
              "          '군무원': 3,\n",
              "          '에서는': 1,\n",
              "          '중대한': 5,\n",
              "          '군사': 6,\n",
              "          '기밀': 1,\n",
              "          '초병': 2,\n",
              "          '초소': 2,\n",
              "          '유독': 2,\n",
              "          '음식물': 2,\n",
              "          '공급': 2,\n",
              "          '포로': 2,\n",
              "          '군용': 1,\n",
              "          '물': 1,\n",
              "          '관': 58,\n",
              "          '중': 12,\n",
              "          '비상계엄': 4,\n",
              "          '선포': 4,\n",
              "          '제외': 5,\n",
              "          '하고는': 5,\n",
              "          '군사법원': 4,\n",
              "          '신속한': 1,\n",
              "          '상당한': 1,\n",
              "          '없는': 4,\n",
              "          '공개': 7,\n",
              "          '판결': 3,\n",
              "          '확정': 8,\n",
              "          '까지는': 1,\n",
              "          '무죄': 1,\n",
              "          '추정': 1,\n",
              "          '당해': 2,\n",
              "          '사건': 1,\n",
              "          '에서': 22,\n",
              "          '28조': 1,\n",
              "          '피의자': 1,\n",
              "          '으로서': 3,\n",
              "          '구금': 3,\n",
              "          '되었던': 2,\n",
              "          '자가': 3,\n",
              "          '불기소처분': 1,\n",
              "          '무죄판결': 1,\n",
              "          '29조': 1,\n",
              "          '직무': 19,\n",
              "          '불법행위': 2,\n",
              "          '손해': 2,\n",
              "          '단체': 4,\n",
              "          '자신': 1,\n",
              "          '면제': 2,\n",
              "          '경찰': 1,\n",
              "          '전투': 1,\n",
              "          '훈련': 1,\n",
              "          '집행': 4,\n",
              "          '관련': 2,\n",
              "          '외': 3,\n",
              "          '인한': 1,\n",
              "          '30조': 1,\n",
              "          '생명': 1,\n",
              "          '로부터': 4,\n",
              "          '구조': 2,\n",
              "          '31조': 1,\n",
              "          '균등하게': 1,\n",
              "          '교육': 4,\n",
              "          '자녀': 1,\n",
              "          '적어도': 1,\n",
              "          '초등교육': 1,\n",
              "          '받게': 1,\n",
              "          '의무교육': 1,\n",
              "          '무상': 1,\n",
              "          '자주성': 1,\n",
              "          '전문성': 1,\n",
              "          '대학': 1,\n",
              "          '자율성': 1,\n",
              "          '평생교육': 2,\n",
              "          '진흥': 1,\n",
              "          '학교': 1,\n",
              "          '포함': 2,\n",
              "          '교육제도': 1,\n",
              "          '교육재정': 1,\n",
              "          '교원': 1,\n",
              "          '32조': 1,\n",
              "          '근로': 9,\n",
              "          '근로자': 4,\n",
              "          '고용': 2,\n",
              "          '증진': 3,\n",
              "          '적정': 1,\n",
              "          '임금': 2,\n",
              "          '최저임금제': 1,\n",
              "          '시행': 10,\n",
              "          '조건': 4,\n",
              "          '민주주의': 1,\n",
              "          '원칙': 2,\n",
              "          '존엄성': 1,\n",
              "          '하도록': 1,\n",
              "          '여자': 2,\n",
              "          '특별한': 5,\n",
              "          '연소자': 1,\n",
              "          '받는다': 4,\n",
              "          '유공': 1,\n",
              "          '상이': 1,\n",
              "          '군경': 1,\n",
              "          '전몰': 1,\n",
              "          '군': 2,\n",
              "          '경의': 1,\n",
              "          '유가족': 1,\n",
              "          '우선': 1,\n",
              "          '부여': 1,\n",
              "          '33조': 1,\n",
              "          '자주': 1,\n",
              "          '단결권': 2,\n",
              "          '단체교섭권': 2,\n",
              "          '단체행동권': 3,\n",
              "          '한하여': 7,\n",
              "          '주요': 1,\n",
              "          '방위산업': 1,\n",
              "          '체': 1,\n",
              "          '종사': 1,\n",
              "          '거나': 13,\n",
              "          '34조': 1,\n",
              "          '다운': 1,\n",
              "          '사회보장': 1,\n",
              "          '복지': 3,\n",
              "          '권익': 1,\n",
              "          '노인': 1,\n",
              "          '청소년': 1,\n",
              "          '실시': 3,\n",
              "          '장애자': 1,\n",
              "          '질병': 1,\n",
              "          '노령': 1,\n",
              "          '사유': 3,\n",
              "          '재해': 1,\n",
              "          '예방': 1,\n",
              "          '위험': 1,\n",
              "          '35조': 1,\n",
              "          '건강하고': 1,\n",
              "          '쾌적한': 2,\n",
              "          '환경': 1,\n",
              "          '환경보전': 1,\n",
              "          '환경권': 1,\n",
              "          '하여는': 3,\n",
              "          '주택': 1,\n",
              "          '개발': 6,\n",
              "          '통': 3,\n",
              "          '있도록': 2,\n",
              "          '36조': 1,\n",
              "          '혼인': 1,\n",
              "          '양성': 1,\n",
              "          '평등': 3,\n",
              "          '기초': 1,\n",
              "          '성립': 1,\n",
              "          '모성': 1,\n",
              "          '보건': 1,\n",
              "          '37조': 1,\n",
              "          '열거': 1,\n",
              "          '아니한': 3,\n",
              "          '경시': 1,\n",
              "          '있으며': 3,\n",
              "          '에도': 3,\n",
              "          '본질': 1,\n",
              "          '38조': 1,\n",
              "          '납세': 1,\n",
              "          '39조': 1,\n",
              "          '국방': 3,\n",
              "          '병역의무': 1,\n",
              "          '이행': 2,\n",
              "          '40조': 1,\n",
              "          '입법권': 1,\n",
              "          '속': 5,\n",
              "          '41조': 1,\n",
              "          '보통': 2,\n",
              "          '직접': 2,\n",
              "          '비밀선거': 2,\n",
              "          '선출': 7,\n",
              "          '국회의원': 18,\n",
              "          '200': 1,\n",
              "          '선거구': 1,\n",
              "          '비례대표제': 1,\n",
              "          '선거': 20,\n",
              "          '42조': 1,\n",
              "          '임기': 18,\n",
              "          '4년': 3,\n",
              "          '43조': 1,\n",
              "          '직': 2,\n",
              "          '겸': 2,\n",
              "          '44조': 1,\n",
              "          '회': 6,\n",
              "          '동의': 11,\n",
              "          '기전': 1,\n",
              "          '요구': 13,\n",
              "          '있으면': 1,\n",
              "          '석방': 1,\n",
              "          '45조': 1,\n",
              "          '행': 5,\n",
              "          '발언': 2,\n",
              "          '표결': 1,\n",
              "          '지지': 1,\n",
              "          '46조': 1,\n",
              "          '청렴': 1,\n",
              "          '이익': 3,\n",
              "          '우선하여': 1,\n",
              "          '남용': 2,\n",
              "          '기업체': 3,\n",
              "          '와의': 1,\n",
              "          '계약': 3,\n",
              "          '처분': 9,\n",
              "          '재산': 2,\n",
              "          '상의': 8,\n",
              "          '직위': 1,\n",
              "          '취득': 2,\n",
              "          '알선': 1,\n",
              "          '47조': 1,\n",
              "          '정기회': 2,\n",
              "          '매년': 2,\n",
              "          '1회': 1,\n",
              "          '되며': 2,\n",
              "          '임시회': 4,\n",
              "          '대통령': 83,\n",
              "          '재적': 14,\n",
              "          '의원': 21,\n",
              "          '4분': 1,\n",
              "          '기는': 2,\n",
              "          '100일': 1,\n",
              "          '30일': 3,\n",
              "          '초과': 1,\n",
              "          '기간': 5,\n",
              "          '명시': 1,\n",
              "          '48조': 1,\n",
              "          '의장': 5,\n",
              "          '인과': 2,\n",
              "          '49조': 1,\n",
              "          '규정': 6,\n",
              "          '과반수': 12,\n",
              "          '출석': 12,\n",
              "          '찬성': 12,\n",
              "          '가부': 1,\n",
              "          '동': 1,\n",
              "          '수인': 1,\n",
              "          '부결': 1,\n",
              "          '본다': 3,\n",
              "          '50조': 1,\n",
              "          '회의': 14,\n",
              "          '있거나': 1,\n",
              "          '필요하다고': 2,\n",
              "          '공표': 1,\n",
              "          '의한다': 1,\n",
              "          '51조': 1,\n",
              "          '제출': 8,\n",
              "          '의안': 1,\n",
              "          '못': 4,\n",
              "          '폐기': 1,\n",
              "          '만료': 3,\n",
              "          '그러하지': 2,\n",
              "          '아니하다': 2,\n",
              "          '52조': 1,\n",
              "          '53조': 1,\n",
              "          '안은': 3,\n",
              "          '이송': 2,\n",
              "          '되어': 1,\n",
              "          '15일': 1,\n",
              "          '이내': 6,\n",
              "          '이의': 2,\n",
              "          '항의': 14,\n",
              "          '내': 2,\n",
              "          '서': 1,\n",
              "          '붙여': 2,\n",
              "          '환부': 1,\n",
              "          '재의': 5,\n",
              "          '폐회': 1,\n",
              "          '또한': 2,\n",
              "          '같다': 2,\n",
              "          '일부': 1,\n",
              "          '수정': 1,\n",
              "          '붙이': 1,\n",
              "          '3분': 7,\n",
              "          '전과': 1,\n",
              "          '하면': 1,\n",
              "          '로서': 4,\n",
              "          '항': 8,\n",
              "          '5': 6,\n",
              "          '후': 6,\n",
              "          '5일': 1,\n",
              "          '국회의장': 1,\n",
              "          '날로': 2,\n",
              "          '부터': 6,\n",
              "          '20일': 2,\n",
              "          '경과': 1,\n",
              "          '발생': 2,\n",
              "          '54조': 1,\n",
              "          '예산안': 5,\n",
              "          '심의': 5,\n",
              "          '회계': 6,\n",
              "          '연도': 5,\n",
              "          '마다': 1,\n",
              "          '편성': 3,\n",
              "          '개시': 5,\n",
              "          '90일': 1,\n",
              "          '전까지': 2,\n",
              "          '새로운': 2,\n",
              "          '까지': 6,\n",
              "          '다음': 4,\n",
              "          '경비': 2,\n",
              "          '전': 4,\n",
              "          '년도': 2,\n",
              "          '예산': 5,\n",
              "          '준': 2,\n",
              "          '설치': 5,\n",
              "          '법률상': 1,\n",
              "          '지출': 4,\n",
              "          '이미': 1,\n",
              "          '사업': 1,\n",
              "          '계속': 4,\n",
              "          '55조': 1,\n",
              "          '넘어': 1,\n",
              "          '필요': 5,\n",
              "          '연한': 1,\n",
              "          '비': 1,\n",
              "          '얻어야': 8,\n",
              "          '예': 2,\n",
              "          '비비': 2,\n",
              "          '액': 1,\n",
              "          '차기': 1,\n",
              "          '56조': 1,\n",
              "          '변경': 3,\n",
              "          '가할': 1,\n",
              "          '추가경정예산': 1,\n",
              "          '57조': 1,\n",
              "          '각항': 1,\n",
              "          '금액': 1,\n",
              "          '증가': 1,\n",
              "          '새': 1,\n",
              "          '비목': 1,\n",
              "          '58조': 1,\n",
              "          '국채': 1,\n",
              "          '모집': 1,\n",
              "          '부담': 4,\n",
              "          '하려': 1,\n",
              "          '미리': 1,\n",
              "          '59조': 1,\n",
              "          '조세': 1,\n",
              "          '종목': 1,\n",
              "          '세율': 1,\n",
              "          '60조': 1,\n",
              "          '상호': 3,\n",
              "          '원조': 1,\n",
              "          '중요한': 6,\n",
              "          '우호': 1,\n",
              "          '통상': 1,\n",
              "          '항해': 1,\n",
              "          '제약': 1,\n",
              "          '강화조약': 1,\n",
              "          '재정': 5,\n",
              "          '지우는': 1,\n",
              "          '입법': 1,\n",
              "          '비준': 2,\n",
              "          '선전포고': 2,\n",
              "          '외국': 3,\n",
              "          '에의': 1,\n",
              "          '파견': 2,\n",
              "          '군대': 1,\n",
              "          '에서의': 1,\n",
              "          '주류': 1,\n",
              "          '61조': 1,\n",
              "          '국정': 8,\n",
              "          '감사': 6,\n",
              "          '특정한': 1,\n",
              "          '사안': 1,\n",
              "          '조사': 2,\n",
              "          '서류': 1,\n",
              "          '증인': 1,\n",
              "          '증언': 1,\n",
              "          '의견': 3,\n",
              "          '국정감사': 1,\n",
              "          '62조': 1,\n",
              "          '국무총리': 19,\n",
              "          '국무위원': 17,\n",
              "          '정부위원': 3,\n",
              "          '위원회': 9,\n",
              "          '처리': 6,\n",
              "          '상황': 2,\n",
              "          '보고하거나': 1,\n",
              "          '질문': 1,\n",
              "          '응답': 1,\n",
              "          '답변': 2,\n",
              "          '하여금': 1,\n",
              "          '63조': 1,\n",
              "          '해임': 3,\n",
              "          '건의': 3,\n",
              "          '발의': 4,\n",
              "          '있어야': 6,\n",
              "          '64조': 1,\n",
              "          '저촉': 4,\n",
              "          '범위': 16,\n",
              "          '내부': 4,\n",
              "          '규율': 4,\n",
              "          '규칙': 6,\n",
              "          '자격': 6,\n",
              "          '징계': 1,\n",
              "          '제명': 1,\n",
              "          '하려면': 2,\n",
              "          '65조': 1,\n",
              "          '행정각부': 9,\n",
              "          '재판관': 10,\n",
              "          '중앙': 3,\n",
              "          '관리': 14,\n",
              "          '위원': 10,\n",
              "          '감사원장': 2,\n",
              "          '배한': 1,\n",
              "          '탄핵': 11,\n",
              "          '자는': 2,\n",
              "          '권한': 11,\n",
              "          '정지': 1,\n",
              "          '결정': 6,\n",
              "          '공직': 1,\n",
              "          '파면': 4,\n",
              "          '그친다': 1,\n",
              "          '그러나': 1,\n",
              "          '민사': 1,\n",
              "          '되지는': 1,\n",
              "          '\\n       ': 7,\n",
              "          '절': 3,\n",
              "          '66조': 1,\n",
              "          '원수': 1,\n",
              "          '대표': 1,\n",
              "          '독립': 2,\n",
              "          '보전': 2,\n",
              "          '성과': 1,\n",
              "          '수호': 1,\n",
              "          '책무': 1,\n",
              "          '성실한': 1,\n",
              "          '행정권': 1,\n",
              "          '수반': 1,\n",
              "          '67조': 1,\n",
              "          '득표': 2,\n",
              "          '이상인': 1,\n",
              "          '다수': 1,\n",
              "          '표': 1,\n",
              "          '얻은': 2,\n",
              "          '자를': 3,\n",
              "          '당선자': 2,\n",
              "          '후보자': 2,\n",
              "          '인일': 1,\n",
              "          '수가': 1,\n",
              "          '총수': 1,\n",
              "          '아니면': 3,\n",
              "          '당선': 1,\n",
              "          '있는': 7,\n",
              "          '피선거권': 1,\n",
              "          '선거일': 1,\n",
              "          '현재': 1,\n",
              "          '40': 1,\n",
              "          '세': 3,\n",
              "          '달': 1,\n",
              "          '68조': 1,\n",
              "          '70일': 1,\n",
              "          '내지': 1,\n",
              "          '40일': 2,\n",
              "          '전에': 1,\n",
              "          '후임': 4,\n",
              "          '궐위': 2,\n",
              "          '사망': 1,\n",
              "          '상실한': 1,\n",
              "          '60일': 2,\n",
              "          '69조': 1,\n",
              "          '취임': 1,\n",
              "          '즈음': 1,\n",
              "          '선서': 2,\n",
              "          '\"': 1,\n",
              "          '보위': 2,\n",
              "          '직책': 1,\n",
              "          '성실히': 1,\n",
              "          '엄숙히': 1,\n",
              "          '합니다': 1,\n",
              "          '.\"': 1,\n",
              "          '70조': 1,\n",
              "          '5년': 1,\n",
              "          '중임': 6,\n",
              "          '71조': 1,\n",
              "          '되거나': 1,\n",
              "          '사고': 1,\n",
              "          '순서': 1,\n",
              "          '대행': 1,\n",
              "          '72조': 1,\n",
              "          '외교': 1,\n",
              "          '안위': 2,\n",
              "          '중요': 4,\n",
              "          '붙일': 1,\n",
              "          '73조': 1,\n",
              "          '외교사절': 1,\n",
              "          '신임': 1,\n",
              "          '접수': 1,\n",
              "          '강화': 2,\n",
              "          '74조': 1,\n",
              "          '통수': 1,\n",
              "          '75조': 1,\n",
              "          '구체': 1,\n",
              "          '위임': 3,\n",
              "          '대통령령': 3,\n",
              "          '발': 4,\n",
              "          '76조': 1,\n",
              "          '내우': 1,\n",
              "          '외환': 2,\n",
              "          '천재': 1,\n",
              "          '지': 1,\n",
              "          '변': 1,\n",
              "          '위기': 1,\n",
              "          '안녕': 3,\n",
              "          '긴급한': 2,\n",
              "          '조치': 3,\n",
              "          '필요하고': 2,\n",
              "          '기다릴': 1,\n",
              "          '여유': 1,\n",
              "          ...})"
            ]
          },
          "metadata": {
            "tags": []
          },
          "execution_count": 60
        }
      ]
    },
    {
      "cell_type": "code",
      "metadata": {
        "colab": {
          "base_uri": "https://localhost:8080/",
          "height": 363
        },
        "id": "W235d6gGu26V",
        "outputId": "4d59f01a-2378-492c-cf04-7c6624c2d15b"
      },
      "source": [
        "# 시각화를 위해 matplotlib 패키지 불러오기\n",
        "from matplotlib import font_manager, rc\n",
        "\n",
        "\n",
        "# 한글 폰트 설정\n",
        "font_name = font_manager.FontProperties(fname=\"/usr/share/fonts/truetype/nanum/malgun.ttf\").get_name()\n",
        "rc('font', family=font_name)"
      ],
      "execution_count": 61,
      "outputs": [
        {
          "output_type": "error",
          "ename": "FileNotFoundError",
          "evalue": "ignored",
          "traceback": [
            "\u001b[0;31m---------------------------------------------------------------------------\u001b[0m",
            "\u001b[0;31mFileNotFoundError\u001b[0m                         Traceback (most recent call last)",
            "\u001b[0;32m<ipython-input-61-3f0fe45fc512>\u001b[0m in \u001b[0;36m<module>\u001b[0;34m()\u001b[0m\n\u001b[1;32m      4\u001b[0m \u001b[0;34m\u001b[0m\u001b[0m\n\u001b[1;32m      5\u001b[0m \u001b[0;31m# 한글 폰트 설정\u001b[0m\u001b[0;34m\u001b[0m\u001b[0;34m\u001b[0m\u001b[0;34m\u001b[0m\u001b[0m\n\u001b[0;32m----> 6\u001b[0;31m \u001b[0mfont_name\u001b[0m \u001b[0;34m=\u001b[0m \u001b[0mfont_manager\u001b[0m\u001b[0;34m.\u001b[0m\u001b[0mFontProperties\u001b[0m\u001b[0;34m(\u001b[0m\u001b[0mfname\u001b[0m\u001b[0;34m=\u001b[0m\u001b[0;34m\"/usr/share/fonts/truetype/nanum/malgun.ttf\"\u001b[0m\u001b[0;34m)\u001b[0m\u001b[0;34m.\u001b[0m\u001b[0mget_name\u001b[0m\u001b[0;34m(\u001b[0m\u001b[0;34m)\u001b[0m\u001b[0;34m\u001b[0m\u001b[0;34m\u001b[0m\u001b[0m\n\u001b[0m\u001b[1;32m      7\u001b[0m \u001b[0mrc\u001b[0m\u001b[0;34m(\u001b[0m\u001b[0;34m'font'\u001b[0m\u001b[0;34m,\u001b[0m \u001b[0mfamily\u001b[0m\u001b[0;34m=\u001b[0m\u001b[0mfont_name\u001b[0m\u001b[0;34m)\u001b[0m\u001b[0;34m\u001b[0m\u001b[0;34m\u001b[0m\u001b[0m\n",
            "\u001b[0;32m/usr/local/lib/python3.6/dist-packages/matplotlib/font_manager.py\u001b[0m in \u001b[0;36mget_name\u001b[0;34m(self)\u001b[0m\n\u001b[1;32m    687\u001b[0m         \u001b[0mReturn\u001b[0m \u001b[0mthe\u001b[0m \u001b[0mname\u001b[0m \u001b[0mof\u001b[0m \u001b[0mthe\u001b[0m \u001b[0mfont\u001b[0m \u001b[0mthat\u001b[0m \u001b[0mbest\u001b[0m \u001b[0mmatches\u001b[0m \u001b[0mthe\u001b[0m \u001b[0mfont\u001b[0m \u001b[0mproperties\u001b[0m\u001b[0;34m.\u001b[0m\u001b[0;34m\u001b[0m\u001b[0;34m\u001b[0m\u001b[0m\n\u001b[1;32m    688\u001b[0m         \"\"\"\n\u001b[0;32m--> 689\u001b[0;31m         \u001b[0;32mreturn\u001b[0m \u001b[0mget_font\u001b[0m\u001b[0;34m(\u001b[0m\u001b[0mfindfont\u001b[0m\u001b[0;34m(\u001b[0m\u001b[0mself\u001b[0m\u001b[0;34m)\u001b[0m\u001b[0;34m)\u001b[0m\u001b[0;34m.\u001b[0m\u001b[0mfamily_name\u001b[0m\u001b[0;34m\u001b[0m\u001b[0;34m\u001b[0m\u001b[0m\n\u001b[0m\u001b[1;32m    690\u001b[0m \u001b[0;34m\u001b[0m\u001b[0m\n\u001b[1;32m    691\u001b[0m     \u001b[0;32mdef\u001b[0m \u001b[0mget_style\u001b[0m\u001b[0;34m(\u001b[0m\u001b[0mself\u001b[0m\u001b[0;34m)\u001b[0m\u001b[0;34m:\u001b[0m\u001b[0;34m\u001b[0m\u001b[0;34m\u001b[0m\u001b[0m\n",
            "\u001b[0;32m/usr/local/lib/python3.6/dist-packages/matplotlib/font_manager.py\u001b[0m in \u001b[0;36mget_font\u001b[0;34m(filename, hinting_factor)\u001b[0m\n\u001b[1;32m   1327\u001b[0m         \u001b[0mhinting_factor\u001b[0m \u001b[0;34m=\u001b[0m \u001b[0mrcParams\u001b[0m\u001b[0;34m[\u001b[0m\u001b[0;34m'text.hinting_factor'\u001b[0m\u001b[0;34m]\u001b[0m\u001b[0;34m\u001b[0m\u001b[0;34m\u001b[0m\u001b[0m\n\u001b[1;32m   1328\u001b[0m     return _get_font(os.fspath(filename), hinting_factor,\n\u001b[0;32m-> 1329\u001b[0;31m                      _kerning_factor=rcParams['text.kerning_factor'])\n\u001b[0m\u001b[1;32m   1330\u001b[0m \u001b[0;34m\u001b[0m\u001b[0m\n\u001b[1;32m   1331\u001b[0m \u001b[0;34m\u001b[0m\u001b[0m\n",
            "\u001b[0;31mFileNotFoundError\u001b[0m: [Errno 2] No such file or directory: '/usr/share/fonts/truetype/nanum/malgun.ttf'"
          ]
        }
      ]
    },
    {
      "cell_type": "code",
      "metadata": {
        "colab": {
          "base_uri": "https://localhost:8080/"
        },
        "id": "my0f4KNcCjWI",
        "outputId": "602bab56-4a96-4377-b534-0dba590a1f9f"
      },
      "source": [
        "!apt -qq -y install fonts-nanum > /dev/null\n",
        "import matplotlib.font_manager as fm\n",
        "\n",
        "fontpath = '/usr/share/fonts/truetype/nanum/NanumBarunGothic.ttf'\n",
        "font = fm.FontProperties(fname=fontpath, size=9)\n",
        "fm._rebuild()\n",
        "%config InlineBackend.figure_format = 'retina'\n",
        "plt.rc('font', family='NanumBarunGothic') "
      ],
      "execution_count": 62,
      "outputs": [
        {
          "output_type": "stream",
          "text": [
            "\n",
            "WARNING: apt does not have a stable CLI interface. Use with caution in scripts.\n",
            "\n"
          ],
          "name": "stdout"
        }
      ]
    },
    {
      "cell_type": "code",
      "metadata": {
        "colab": {
          "base_uri": "https://localhost:8080/",
          "height": 1000
        },
        "id": "TGhtDexgvCkd",
        "outputId": "1faf5bc8-b540-4fa7-b360-2de852bb4270"
      },
      "source": [
        "\n",
        "# 상위 빈도 단어들의 빈도를 그래프로 출력\n",
        "%matplotlib inline\n",
        "c_nltk_text.plot(20)"
      ],
      "execution_count": 63,
      "outputs": [
        {
          "output_type": "stream",
          "text": [
            "/usr/local/lib/python3.6/dist-packages/matplotlib/backends/backend_agg.py:214: RuntimeWarning: Glyph 51032 missing from current font.\n",
            "  font.set_text(s, 0.0, flags=flags)\n",
            "/usr/local/lib/python3.6/dist-packages/matplotlib/backends/backend_agg.py:214: RuntimeWarning: Glyph 50640 missing from current font.\n",
            "  font.set_text(s, 0.0, flags=flags)\n",
            "/usr/local/lib/python3.6/dist-packages/matplotlib/backends/backend_agg.py:214: RuntimeWarning: Glyph 51012 missing from current font.\n",
            "  font.set_text(s, 0.0, flags=flags)\n",
            "/usr/local/lib/python3.6/dist-packages/matplotlib/backends/backend_agg.py:214: RuntimeWarning: Glyph 51008 missing from current font.\n",
            "  font.set_text(s, 0.0, flags=flags)\n",
            "/usr/local/lib/python3.6/dist-packages/matplotlib/backends/backend_agg.py:214: RuntimeWarning: Glyph 51228 missing from current font.\n",
            "  font.set_text(s, 0.0, flags=flags)\n",
            "/usr/local/lib/python3.6/dist-packages/matplotlib/backends/backend_agg.py:214: RuntimeWarning: Glyph 51060 missing from current font.\n",
            "  font.set_text(s, 0.0, flags=flags)\n",
            "/usr/local/lib/python3.6/dist-packages/matplotlib/backends/backend_agg.py:214: RuntimeWarning: Glyph 54620 missing from current font.\n",
            "  font.set_text(s, 0.0, flags=flags)\n",
            "/usr/local/lib/python3.6/dist-packages/matplotlib/backends/backend_agg.py:214: RuntimeWarning: Glyph 45796 missing from current font.\n",
            "  font.set_text(s, 0.0, flags=flags)\n",
            "/usr/local/lib/python3.6/dist-packages/matplotlib/backends/backend_agg.py:214: RuntimeWarning: Glyph 47484 missing from current font.\n",
            "  font.set_text(s, 0.0, flags=flags)\n",
            "/usr/local/lib/python3.6/dist-packages/matplotlib/backends/backend_agg.py:214: RuntimeWarning: Glyph 48277 missing from current font.\n",
            "  font.set_text(s, 0.0, flags=flags)\n",
            "/usr/local/lib/python3.6/dist-packages/matplotlib/backends/backend_agg.py:214: RuntimeWarning: Glyph 47456 missing from current font.\n",
            "  font.set_text(s, 0.0, flags=flags)\n",
            "/usr/local/lib/python3.6/dist-packages/matplotlib/backends/backend_agg.py:214: RuntimeWarning: Glyph 45716 missing from current font.\n",
            "  font.set_text(s, 0.0, flags=flags)\n",
            "/usr/local/lib/python3.6/dist-packages/matplotlib/backends/backend_agg.py:214: RuntimeWarning: Glyph 54624 missing from current font.\n",
            "  font.set_text(s, 0.0, flags=flags)\n",
            "/usr/local/lib/python3.6/dist-packages/matplotlib/backends/backend_agg.py:214: RuntimeWarning: Glyph 51221 missing from current font.\n",
            "  font.set_text(s, 0.0, flags=flags)\n",
            "/usr/local/lib/python3.6/dist-packages/matplotlib/backends/backend_agg.py:214: RuntimeWarning: Glyph 49688 missing from current font.\n",
            "  font.set_text(s, 0.0, flags=flags)\n",
            "/usr/local/lib/python3.6/dist-packages/matplotlib/backends/backend_agg.py:214: RuntimeWarning: Glyph 45824 missing from current font.\n",
            "  font.set_text(s, 0.0, flags=flags)\n",
            "/usr/local/lib/python3.6/dist-packages/matplotlib/backends/backend_agg.py:214: RuntimeWarning: Glyph 53685 missing from current font.\n",
            "  font.set_text(s, 0.0, flags=flags)\n",
            "/usr/local/lib/python3.6/dist-packages/matplotlib/backends/backend_agg.py:214: RuntimeWarning: Glyph 47161 missing from current font.\n",
            "  font.set_text(s, 0.0, flags=flags)\n",
            "/usr/local/lib/python3.6/dist-packages/matplotlib/backends/backend_agg.py:183: RuntimeWarning: Glyph 51032 missing from current font.\n",
            "  font.set_text(s, 0, flags=flags)\n",
            "/usr/local/lib/python3.6/dist-packages/matplotlib/backends/backend_agg.py:183: RuntimeWarning: Glyph 50640 missing from current font.\n",
            "  font.set_text(s, 0, flags=flags)\n",
            "/usr/local/lib/python3.6/dist-packages/matplotlib/backends/backend_agg.py:183: RuntimeWarning: Glyph 51012 missing from current font.\n",
            "  font.set_text(s, 0, flags=flags)\n",
            "/usr/local/lib/python3.6/dist-packages/matplotlib/backends/backend_agg.py:183: RuntimeWarning: Glyph 51008 missing from current font.\n",
            "  font.set_text(s, 0, flags=flags)\n",
            "/usr/local/lib/python3.6/dist-packages/matplotlib/backends/backend_agg.py:183: RuntimeWarning: Glyph 51228 missing from current font.\n",
            "  font.set_text(s, 0, flags=flags)\n",
            "/usr/local/lib/python3.6/dist-packages/matplotlib/backends/backend_agg.py:183: RuntimeWarning: Glyph 51060 missing from current font.\n",
            "  font.set_text(s, 0, flags=flags)\n",
            "/usr/local/lib/python3.6/dist-packages/matplotlib/backends/backend_agg.py:183: RuntimeWarning: Glyph 54620 missing from current font.\n",
            "  font.set_text(s, 0, flags=flags)\n",
            "/usr/local/lib/python3.6/dist-packages/matplotlib/backends/backend_agg.py:183: RuntimeWarning: Glyph 45796 missing from current font.\n",
            "  font.set_text(s, 0, flags=flags)\n",
            "/usr/local/lib/python3.6/dist-packages/matplotlib/backends/backend_agg.py:183: RuntimeWarning: Glyph 47484 missing from current font.\n",
            "  font.set_text(s, 0, flags=flags)\n",
            "/usr/local/lib/python3.6/dist-packages/matplotlib/backends/backend_agg.py:183: RuntimeWarning: Glyph 48277 missing from current font.\n",
            "  font.set_text(s, 0, flags=flags)\n",
            "/usr/local/lib/python3.6/dist-packages/matplotlib/backends/backend_agg.py:183: RuntimeWarning: Glyph 47456 missing from current font.\n",
            "  font.set_text(s, 0, flags=flags)\n",
            "/usr/local/lib/python3.6/dist-packages/matplotlib/backends/backend_agg.py:183: RuntimeWarning: Glyph 45716 missing from current font.\n",
            "  font.set_text(s, 0, flags=flags)\n",
            "/usr/local/lib/python3.6/dist-packages/matplotlib/backends/backend_agg.py:183: RuntimeWarning: Glyph 54624 missing from current font.\n",
            "  font.set_text(s, 0, flags=flags)\n",
            "/usr/local/lib/python3.6/dist-packages/matplotlib/backends/backend_agg.py:183: RuntimeWarning: Glyph 51221 missing from current font.\n",
            "  font.set_text(s, 0, flags=flags)\n",
            "/usr/local/lib/python3.6/dist-packages/matplotlib/backends/backend_agg.py:183: RuntimeWarning: Glyph 49688 missing from current font.\n",
            "  font.set_text(s, 0, flags=flags)\n",
            "/usr/local/lib/python3.6/dist-packages/matplotlib/backends/backend_agg.py:183: RuntimeWarning: Glyph 45824 missing from current font.\n",
            "  font.set_text(s, 0, flags=flags)\n",
            "/usr/local/lib/python3.6/dist-packages/matplotlib/backends/backend_agg.py:183: RuntimeWarning: Glyph 53685 missing from current font.\n",
            "  font.set_text(s, 0, flags=flags)\n",
            "/usr/local/lib/python3.6/dist-packages/matplotlib/backends/backend_agg.py:183: RuntimeWarning: Glyph 47161 missing from current font.\n",
            "  font.set_text(s, 0, flags=flags)\n"
          ],
          "name": "stderr"
        },
        {
          "output_type": "display_data",
          "data": {
            "image/png": "[encoded data removed]",
            "text/plain": [
              "<Figure size 432x288 with 1 Axes>"
            ]
          },
          "metadata": {
            "tags": [],
            "image/png": {
              "width": 388,
              "height": 270
            },
            "needs_background": "light"
          }
        }
      ]
    },
    {
      "cell_type": "code",
      "metadata": {
        "id": "T6U8XLPevNuN"
      },
      "source": [
        "\n",
        "tokens_new = [] # 리스트 생성\n",
        "for token in tokens_c:\n",
        "    if len(token.strip()) > 1: # 스페이스를 제외한 나머지 문자열의 길이가 둘 이상인 단어만 포함\n",
        "        tokens_new.append(token.strip()) # 추출한 단어들 tokens_new 리스트에 추가\n",
        "print(len(tokens_new))"
      ],
      "execution_count": null,
      "outputs": []
    },
    {
      "cell_type": "code",
      "metadata": {
        "id": "GX6iZmzCvdOf"
      },
      "source": [
        "# 수정한 리스트를 바탕으로 그래프 다시 그리기\n",
        "c_nltk_text = nltk.Text(tokens_new, name = \"대한민국헌법\")\n",
        "c_nltk_text.plot(20)"
      ],
      "execution_count": null,
      "outputs": []
    },
    {
      "cell_type": "code",
      "metadata": {
        "id": "2xGB44vPvhjJ"
      },
      "source": [
        "# \"대한민국\"의 빈도 구하기\n",
        "c_nltk_text.count('대한민국')"
      ],
      "execution_count": null,
      "outputs": []
    },
    {
      "cell_type": "code",
      "metadata": {
        "id": "1SV1reDjvoBT"
      },
      "source": [
        "# 단어들 중 주어진 단어들의 위치를 표시\n",
        "c_nltk_text.dispersion_plot(['대한민국', '민주', '헌법'])"
      ],
      "execution_count": null,
      "outputs": []
    },
    {
      "cell_type": "code",
      "metadata": {
        "id": "VwBtE_5SvuLp"
      },
      "source": [
        "nc = okt.nouns(c) # 데이터에서 명사만 추출\n",
        "print(len(nc))\n",
        "print(\" \".join(nc[:50]))"
      ],
      "execution_count": null,
      "outputs": []
    },
    {
      "cell_type": "code",
      "metadata": {
        "id": "c2O7fQ8xvweM"
      },
      "source": [
        "\n",
        "ncnt = nltk.Text(nc, name = \"Okt명사\")\n",
        "ncnt.plot(20)"
      ],
      "execution_count": null,
      "outputs": []
    },
    {
      "cell_type": "code",
      "metadata": {
        "id": "d25Y2cquANuE"
      },
      "source": [
        "from google.colab import drive\n",
        "drive.mount('/content/drive')\n",
        "!pwd"
      ],
      "execution_count": null,
      "outputs": []
    },
    {
      "cell_type": "code",
      "metadata": {
        "id": "pOVquwBiAYrG"
      },
      "source": [
        "import keras\n",
        "data_path = '/content/drive/My Drive/Colab Notebooks/data/data.csv'"
      ],
      "execution_count": null,
      "outputs": []
    },
    {
      "cell_type": "code",
      "metadata": {
        "id": "gKiCCbAWv3Pw"
      },
      "source": [
        "import nltk\n",
        "nltk.download('gutenberg')\n",
        "from nltk.corpus import gutenberg   # nltk.corpus의 서브패키지 사용\n",
        "files_en = gutenberg.fileids() # 파일 목록\n",
        "doc_en = gutenberg.open(data_path).read() # 원하는 데이터 불러오기"
      ],
      "execution_count": null,
      "outputs": []
    },
    {
      "cell_type": "code",
      "metadata": {
        "id": "HQG3Wjziv6sG"
      },
      "source": [
        "from wordcloud import WordCloud\n",
        "\n",
        "# 워드클라우드 이미지 생성\n",
        "wordcloud = WordCloud().generate(doc_en)\n",
        "\n",
        "# matplotlib 패키지 이용해서 생성한 워드클라우드(이미지) 출력\n",
        "import matplotlib.pyplot as plt\n",
        "%matplotlib inline\n",
        "\n",
        "# plt.imshow: 이미지 출력 함수\n",
        "plt.imshow(wordcloud, interpolation='bilinear')\n",
        "plt.axis(\"off\")\n",
        "plt.show()"
      ],
      "execution_count": null,
      "outputs": []
    },
    {
      "cell_type": "code",
      "metadata": {
        "id": "vtGCKJkKwAuu"
      },
      "source": [
        "# 최대 폰트 크기 줄이고 다시 출력\n",
        "wordcloud = WordCloud(max_font_size=40).generate(doc_en)\n",
        "plt.figure()\n",
        "plt.imshow(wordcloud, interpolation=\"bilinear\")\n",
        "plt.axis(\"off\")\n",
        "plt.show()"
      ],
      "execution_count": null,
      "outputs": []
    },
    {
      "cell_type": "code",
      "metadata": {
        "id": "b_URhq09wFGv"
      },
      "source": [
        "# text 파일로부터 읽어들여 워드클라우드 그리기\n",
        "import matplotlib.pyplot as plt\n",
        "from wordcloud import WordCloud\n",
        " \n",
        "font_path = 'c:/Windows/Fonts/malgun.ttf' # 한글 폰트의 위치를 지정\n",
        "\n",
        "# 폰트 및 다른 속성들을 지정\n",
        "wordcloud = WordCloud( \n",
        "    font_path = font_path,\n",
        "    width = 800,\n",
        "    height = 800, \n",
        "    max_words=50,\n",
        "    background_color='white' # 영어와 달리 배경을 흰색으로\n",
        ")\n",
        "\n",
        "text=open('test2.txt').read() # 텍스트 파일을 읽음\n",
        "wordcloud = wordcloud.generate(text) # 워드 클라우드 생성\n",
        " \n",
        "fig = plt.figure(figsize=(12,12)) # 그림판 크기를 지정\n",
        "plt.imshow(wordcloud)\n",
        "plt.axis(\"off\")\n",
        "plt.show()"
      ],
      "execution_count": null,
      "outputs": []
    }
  ]
}